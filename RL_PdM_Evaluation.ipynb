{
 "cells": [
  {
   "cell_type": "markdown",
   "metadata": {
    "id": "rxQcBKvOsh_j"
   },
   "source": [
    "# RL for Predictive Maintenance\n",
    "\n",
    "## EVALUATION Code\n",
    "\n",
    "**To-do**\n",
    "1. First replace: The code to show flat line after first replace\n",
    "2. Show tool-change line\n",
    "3.  "
   ]
  },
  {
   "cell_type": "code",
   "execution_count": 208,
   "metadata": {},
   "outputs": [],
   "source": [
    "PDM_AGENT = 'C01_1'\n",
    "ENV_TYPE = 'NUAA' \n",
    "EVALUATION_DATA = f'{ENV_TYPE}_W8'\n",
    "\n",
    "mfile = F'Agent_PHM_{PDM_AGENT}'\n",
    "r1=r2=r3=0.0\n",
    "EARLY_DETECT_FACTOR = 0.0"
   ]
  },
  {
   "cell_type": "markdown",
   "metadata": {
    "id": "7ptQx8BqHek_"
   },
   "source": [
    "## Libraries, Paths, Data-sets"
   ]
  },
  {
   "cell_type": "code",
   "execution_count": 209,
   "metadata": {
    "colab": {
     "base_uri": "https://localhost:8080/"
    },
    "id": "57eHSdTmmgHF",
    "outputId": "770944bc-b5d9-417a-d33c-6b3b4eb42bf3"
   },
   "outputs": [],
   "source": [
    "# General libraries\n",
    "import pandas as pd\n",
    "import numpy as np\n",
    "import matplotlib.pyplot as plt\n",
    "from matplotlib.pyplot import figure\n",
    "from datetime import datetime\n",
    "import warnings\n",
    "warnings.filterwarnings('ignore')\n",
    "\n",
    "# RL libraries\n",
    "import gymnasium as gym\n",
    "from stable_baselines3 import PPO\n",
    "from stable_baselines3.common.env_checker import check_env\n",
    "from stable_baselines3.common.evaluation import evaluate_policy\n",
    "from torch.utils.tensorboard import SummaryWriter\n",
    "\n",
    "# Custom libraries\n",
    "# from milling_tool_environment import Milling_Tool_Env\n",
    "from utilities import downsample, tool_wear_data\n",
    "\n",
    "# Data-sets\n",
    "datasets = {'NUAA_W1':['NUAA_W1_0p229.csv', 0.229], 'NUAA_W3':['NUAA_W3_0p12.csv', 0.12], 'NUAA_W8':['NUAA_W8_0p281.csv', 0.281],\n",
    "           'PHM_C01':['PHM_C01_0p12.csv', 0.12],  'PHM_C04':['PHM_C04_0p098.csv', 0.098],  'PHM_C06':['PHM_C06_0p13.csv', 0.13]}\n",
    "\n",
    "# Paths\n",
    "dt_string = datetime.now().strftime(\"%d-%b-%Y  %H:%M:%S\")\n",
    "PATH = 'D:/ResearchLab/RL_for_PdM/RL_for_Predictive_Maintenance'\n",
    "DATA_PATH = f'{PATH}/Data/'\n",
    "IMAGE_PATH = f'{PATH}/sample_runs/Images/'"
   ]
  },
  {
   "cell_type": "markdown",
   "metadata": {},
   "source": [
    "## Set-up"
   ]
  },
  {
   "cell_type": "code",
   "execution_count": 210,
   "metadata": {
    "colab": {
     "base_uri": "https://localhost:8080/"
    },
    "id": "0jxk_NfeQqEH",
    "outputId": "13b62a53-1178-4f74-a9b0-2db99ffa5891"
   },
   "outputs": [
    {
     "name": "stdout",
     "output_type": "stream",
     "text": [
      "EVALUATION: Data set: NUAA_W8_0p281.csv, Threshold: 0.281\n",
      "Model D:/ResearchLab/RL_for_PdM/RL_for_Predictive_Maintenance/models/Agent_PHM_C01_1\n",
      "\n",
      "** PdM Agent loaded successfully **\n",
      "\n"
     ]
    }
   ],
   "source": [
    "SAMPLING_RATE = 25\n",
    "ALGO = 'PPO'\n",
    "BATCH_SIZE = 16\n",
    "EVALUATION_ROUNDS = 20\n",
    "MAX_EPISODE_STEPS_FACTOR = 10\n",
    "\n",
    "# Set-up data-sets\n",
    "TEST_DATA = datasets[EVALUATION_DATA][0]\n",
    "TEST_WEAR_THRESHOLD = datasets[EVALUATION_DATA][1]\n",
    "\n",
    "# Paths\n",
    "TEST_DATA_FILE = f'{DATA_PATH}/{TEST_DATA}'\n",
    "MODEL_FILE = f'{PATH}/models/{mfile}'\n",
    "\n",
    "print(f'EVALUATION: Data set: {TEST_DATA}, Threshold: {TEST_WEAR_THRESHOLD}')\n",
    "print(f'Model {MODEL_FILE}')\n",
    "pdm_agent = PPO.load(MODEL_FILE)\n",
    "print(f'\\n** PdM Agent loaded successfully **\\n')"
   ]
  },
  {
   "cell_type": "markdown",
   "metadata": {
    "jp-MarkdownHeadingCollapsed": true
   },
   "source": [
    "## Milling Tool Environment"
   ]
  },
  {
   "cell_type": "code",
   "execution_count": 211,
   "metadata": {},
   "outputs": [],
   "source": [
    "# Milling Tool Environment\n",
    "# - Handles multiple dataset. PHM and NUAA\n",
    "# - Default Rewards: ```R1: +1.0, R2: -4.0, R3: -0.5```\n",
    "\n",
    "import gymnasium as gym\n",
    "from gymnasium import spaces\n",
    "import pandas as pd\n",
    "import numpy as np\n",
    "import matplotlib.pyplot as plt\n",
    "from matplotlib.pyplot import figure\n",
    "\n",
    "NO_ACTION = 0\n",
    "REPLACE = 1\n",
    "\n",
    "class Milling_Tool_Env(gym.Env):\n",
    "    \n",
    "        def __init__(self, max_records=0, env_type = '', rul_threshold=0.0, R1=1.0, R2=0.0, R3=0.0):\n",
    "            print(f'-- Ver. RB 0.5. Tested 26-Nov-24: Environment: {env_type} | RUL threshold: {rul_threshold:4.3f} | Records: {max_records} | R1: {R1:3.1f}, R2: {R2:3.1f}, R3: {R3:3.1f}')\n",
    "\n",
    "            # Initialize\n",
    "            self.env_type = env_type\n",
    "            self.R1 = R1\n",
    "            self.R2 = R2\n",
    "            self.R3 = R3\n",
    "            self.reward = 0.0\n",
    "            self.cummulative_rewards = 0.0\n",
    "\n",
    "            self.a_rewards = []\n",
    "            self.a_actions = []\n",
    "            self.a_action_recommended = []\n",
    "            self.a_rul = []\n",
    "            self.a_time_since_last_replacement = []\n",
    "\n",
    "            self.df = None\n",
    "            self.current_time_step = 0\n",
    "            self.max_records = max_records\n",
    "            self.maintenance_cost = 0.0\n",
    "            self.replacement_events = 0\n",
    "            self.time_since_last_replacement = 0\n",
    "            self.rul_threshold = rul_threshold\n",
    "\n",
    "            high = np.array(6*[1.0], dtype=np.float32)\n",
    "            low = np.array(6*[-1.0], dtype=np.float32)\n",
    "            self.observation_space = spaces.Box(low, high, dtype=np.float32)\n",
    "            self.action_space = spaces.Discrete(2)\n",
    "\n",
    "        ## Add tool wear data-set\n",
    "        ## Keep rul_threshold intialized to self.rul_threshold\n",
    "        def tool_wear_data(self, df, rul_threshold=0.0):\n",
    "            self.df = df\n",
    "            self.rul_threshold = rul_threshold\n",
    "            self.max_records = len(df.index)\n",
    "            print(f'   * Tool-wear data updated: {self.max_records}. RUL threshold: {self.rul_threshold:4.3f}')\n",
    "\n",
    "        def _get_observation(self):\n",
    "            if (self.df is not None):\n",
    "                if (self.env_type == 'PHM'):\n",
    "                    obs_values = np.array([\n",
    "                        self.df.loc[self.current_time_step, 'force_x'],\n",
    "                        self.df.loc[self.current_time_step, 'force_y'],\n",
    "                        self.df.loc[self.current_time_step, 'force_z'],\n",
    "                        self.df.loc[self.current_time_step, 'vibration_x'],\n",
    "                        self.df.loc[self.current_time_step, 'vibration_y'],\n",
    "                        self.df.loc[self.current_time_step, 'vibration_z']\n",
    "                    ], dtype=np.float32)\n",
    "                else:\n",
    "                    obs_values = np.array([\n",
    "                        self.df.loc[self.current_time_step, 'axial_force'],\n",
    "                        self.df.loc[self.current_time_step, 'force_z'],\n",
    "                        self.df.loc[self.current_time_step, 'vibration_x'],\n",
    "                        self.df.loc[self.current_time_step, 'vibration_y'],\n",
    "                        self.df.loc[self.current_time_step, 'vibration1'],\n",
    "                        self.df.loc[self.current_time_step, 'vibration2']\n",
    "                    ], dtype=np.float32)\n",
    "            else:\n",
    "                obs_values = np.array([0.0, 0.0, 0.0, 0.0, 0.0, 0.0], dtype=np.float32)\n",
    "\n",
    "            observation = obs_values.flatten()\n",
    "            return observation\n",
    "\n",
    "        def _get_auxilliary_info(self):\n",
    "            if (self.df is not None):\n",
    "                recommended_action = int(self.df.loc[self.current_time_step, 'ACTION_CODE'])\n",
    "                rul = float(self.df.loc[self.current_time_step, 'RUL'])\n",
    "            else:\n",
    "                recommended_action = 0\n",
    "                rul = 0.0\n",
    "\n",
    "            return recommended_action, rul\n",
    "\n",
    "        def reset(self, seed=None, options=None):\n",
    "            super().reset(seed=seed)\n",
    "            # self.a_rewards = []\n",
    "            # self.a_actions = []\n",
    "            # self.a_action_recommended = []\n",
    "            # self.a_rul = []\n",
    "\n",
    "            # Choose the tool wear at a random time (spatial) location from a uniformly random distribution\n",
    "            # self.current_time_step = np.random.randint(0, int(RANDOM_TOOL_START_OF_LIFE * self.max_records), 1, dtype=int)\n",
    "            self.current_time_step = 0\n",
    "            self.reward = 0.0\n",
    "            self.cummulative_rewards = 0.0\n",
    "\n",
    "            observation = self._get_observation()\n",
    "            info = {'reset':'Reset'}\n",
    "            return observation, info\n",
    "\n",
    "        ## Step\n",
    "        def step(self, action):\n",
    "            terminated = False\n",
    "            reward = 0.0\n",
    "            info = {'Step':'-'}\n",
    "            # Get auxilliary info: current RUL reading (note this is NOT part of the observation) and the expert's recommended action\n",
    "            recommended_action, self.rul = self._get_auxilliary_info()\n",
    "            self.maintenance_cost = 0.0\n",
    "\n",
    "            # Check if Episode over\n",
    "            if self.current_time_step >= self.max_records:\n",
    "                done = True\n",
    "\n",
    "            # Reward for RUL maximized and penalize if breached\n",
    "            if self.rul > (1.0+EARLY_DETECT_FACTOR)*self.rul_threshold:\n",
    "                reward = self.current_time_step*self.R1\n",
    "            else:\n",
    "                reward = self.current_time_step*self.R2\n",
    "\n",
    "            # If tool replaced, add cost of replacement\n",
    "            if action == REPLACE:\n",
    "                # Update time_since_last_replacement\n",
    "                self.time_since_last_replacement = self.current_time_step\n",
    "                self.a_time_since_last_replacement.append(self.current_time_step)\n",
    "                reward = self.current_time_step*self.R3\n",
    "                self.current_time_step = 0\n",
    "\n",
    "            self.reward = reward\n",
    "            self.cummulative_rewards = self.cummulative_rewards + reward\n",
    "\n",
    "            # Information arrays\n",
    "            self.a_rewards.append(reward)\n",
    "            self.a_actions.append(action)\n",
    "            self.a_action_recommended.append(recommended_action)\n",
    "            self.a_rul.append(self.rul)\n",
    "\n",
    "            if (action != REPLACE) and (self.current_time_step < (self.max_records-1)):\n",
    "              self.current_time_step += 1\n",
    "\n",
    "            # Action taken, reward set for that action, now take in next observation\n",
    "            observation = self._get_observation()\n",
    "\n",
    "\n",
    "            if self.rul <= self.rul_threshold:\n",
    "              self.cummulative_rewards = 0.0\n",
    "\n",
    "            # if self.rul > self.rul_threshold:\n",
    "            #     print(f'Action>> Expert:{recommended_action:2d} Agent:{action:2d}| RUL: {self.rul:>5.2f} | Reward: {reward:>7.2f} -- CR: {self.cummulative_rewards:>7.2f}' )\n",
    "            # else:\n",
    "            #     print(f'*** RUL reached: {self.rul:3.2f} ***')\n",
    "            #     self.cummulative_rewards = 0.0\n",
    "\n",
    "            # writer.add_scalar('reward', reward)\n",
    "            return observation, self.reward, terminated, False, info"
   ]
  },
  {
   "cell_type": "markdown",
   "metadata": {
    "id": "8cGfi3dEJi8S",
    "jp-MarkdownHeadingCollapsed": true
   },
   "source": [
    "## Load evaluation tool-wear data"
   ]
  },
  {
   "cell_type": "code",
   "execution_count": 212,
   "metadata": {},
   "outputs": [
    {
     "name": "stdout",
     "output_type": "stream",
     "text": [
      "- Down-sampling. Input data records: 1008. Sampling rate: 25. Expected rows 40.    Down-sampled to 41 rows.\n"
     ]
    },
    {
     "data": {
      "image/png": "[encoded data removed]",
      "text/plain": [
       "<Figure size 1000x250 with 1 Axes>"
      ]
     },
     "metadata": {},
     "output_type": "display_data"
    },
    {
     "name": "stdout",
     "output_type": "stream",
     "text": [
      "TEST  - RUL threshold at time 20 is 0.129, and wear threshold 0.281\n"
     ]
    }
   ],
   "source": [
    "# Create Test data\n",
    "_, _, TEST_WEAR_THRESHOLD_NORMALIZED, df_test = tool_wear_data(\n",
    "    env_type = ENV_TYPE, data_file=TEST_DATA_FILE, wear_threshold = TEST_WEAR_THRESHOLD,\n",
    "    normalize=True, add_noise=False, sampling_rate = SAMPLING_RATE)\n",
    "\n",
    "n_test_records = len(df_test.index)\n",
    "MAX_EPISODE_STEPS = MAX_EPISODE_STEPS_FACTOR*n_test_records\n",
    "rul_threshold_record_test = df_test.loc[df_test['tool_wear'] >= TEST_WEAR_THRESHOLD_NORMALIZED].index[0]\n",
    "rul_threshold_test = df_test.loc[df_test.index[rul_threshold_record_test], 'RUL']\n",
    "\n",
    "print(f'TEST  - RUL threshold at time {rul_threshold_record_test} is {rul_threshold_test:3.3f}, and wear threshold {TEST_WEAR_THRESHOLD:3.3f}')"
   ]
  },
  {
   "cell_type": "markdown",
   "metadata": {
    "id": "sgNnd0fHGnu1"
   },
   "source": [
    "## Predictive Maintenance Agent Training"
   ]
  },
  {
   "cell_type": "code",
   "execution_count": 213,
   "metadata": {
    "colab": {
     "base_uri": "https://localhost:8080/"
    },
    "id": "IB3kNPAsvUSj",
    "outputId": "7452eacd-a5e9-4eb4-f02c-1a0461f11380"
   },
   "outputs": [
    {
     "name": "stdout",
     "output_type": "stream",
     "text": [
      "-- Ver. RB 0.5. Tested 26-Nov-24: Environment: NUAA | RUL threshold: 0.129 | Records: 41 | R1: 0.0, R2: 0.0, R3: 0.0\n",
      "   * Tool-wear data updated: 41. RUL threshold: 0.129\n"
     ]
    }
   ],
   "source": [
    "from stable_baselines3.common.monitor import Monitor\n",
    "\n",
    "gym.register(\n",
    "    id = 'custom/MillingToolEnv-v0',\n",
    "    entry_point = Milling_Tool_Env,\n",
    "    max_episode_steps = MAX_EPISODE_STEPS,)\n",
    "\n",
    "mt_eval_env = Monitor(gym.make('custom/MillingToolEnv-v0', max_records=n_test_records, env_type=ENV_TYPE, rul_threshold=rul_threshold_test, R1=r1, R2=r2, R3=r3))\n",
    "mt_eval_env.tool_wear_data(df_test, rul_threshold_test)"
   ]
  },
  {
   "cell_type": "code",
   "execution_count": 229,
   "metadata": {},
   "outputs": [
    {
     "data": {
      "image/png": "[encoded data removed]",
      "text/plain": [
       "<Figure size 1000x250 with 1 Axes>"
      ]
     },
     "metadata": {},
     "output_type": "display_data"
    }
   ],
   "source": [
    "obsv = mt_eval_env.reset()\n",
    "# During reset a tuple is returned. So take the state only. When the step() is called it properly returns only the state so obsv will work\n",
    "obsv = obsv[0]\n",
    "\n",
    "REPLACED_FLAG = False\n",
    "eval_rewards = []\n",
    "eval_action = []\n",
    "eval_rewards.clear()\n",
    "eval_action.clear()\n",
    "\n",
    "for i in range(n_test_records):\n",
    "    action, _state = pdm_agent.predict(obsv)\n",
    "    _, reward, done, info, _ = mt_eval_env.step(action)\n",
    "\n",
    "    if (ENV_TYPE == 'PHM'):\n",
    "        obs_values = np.array([df_test.loc[i, 'force_x'], df_test.loc[i, 'force_y'], df_test.loc[i, 'force_z'],\n",
    "                            df_test.loc[i, 'vibration_x'], df_test.loc[i, 'vibration_y'], df_test.loc[i, 'vibration_z']], dtype=np.float32)\n",
    "    else:\n",
    "        obs_values = np.array([df_test.loc[i, 'axial_force'], df_test.loc[i, 'force_z'], df_test.loc[i, 'vibration_x'],\n",
    "                            df_test.loc[i, 'vibration_y'], df_test.loc[i, 'vibration1'], df_test.loc[i, 'vibration2']], dtype=np.float32)\n",
    "\n",
    "    obsv = obs_values.flatten()\n",
    "    eval_rewards.append(reward)\n",
    "    # eval_action.append(action)\n",
    "\n",
    "    if (not REPLACED_FLAG):\n",
    "        if (action == REPLACE):\n",
    "            eval_action.append(1)\n",
    "            REPLACED_FLAG = True\n",
    "        else:\n",
    "            eval_action.append(action)    \n",
    "    else:\n",
    "        eval_action.append(1)\n",
    "\n",
    "plt.figure(figsize=(10, 2.5))\n",
    "plt.plot(df_test['tool_wear'])\n",
    "plt.plot(eval_action, 'r', alpha=0.3)\n",
    "plt.axhline(y = TEST_WEAR_THRESHOLD_NORMALIZED, color = 'r', linestyle = '--', alpha=0.3) \n",
    "title = f'Agent {PDM_AGENT} -- Evaluation {TEST_DATA}'\n",
    "save_image = title.replace('.csv', '')\n",
    "plt.title(title)\n",
    "plt.savefig(f'{IMAGE_PATH}/{save_image}', bbox_inches='tight')\n",
    "plt.show()"
   ]
  },
  {
   "cell_type": "code",
   "execution_count": null,
   "metadata": {},
   "outputs": [],
   "source": []
  }
 ],
 "metadata": {
  "colab": {
   "collapsed_sections": [
    "rxQcBKvOsh_j",
    "8cGfi3dEJi8S",
    "mDGsBqjoJsPr"
   ],
   "provenance": []
  },
  "kernelspec": {
   "display_name": "Python 3 (ipykernel)",
   "language": "python",
   "name": "python3"
  },
  "language_info": {
   "codemirror_mode": {
    "name": "ipython",
    "version": 3
   },
   "file_extension": ".py",
   "mimetype": "text/x-python",
   "name": "python",
   "nbconvert_exporter": "python",
   "pygments_lexer": "ipython3",
   "version": "3.10.11"
  }
 },
 "nbformat": 4,
 "nbformat_minor": 4
}
