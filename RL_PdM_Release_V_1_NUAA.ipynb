{
 "cells": [
  {
   "cell_type": "markdown",
   "metadata": {
    "id": "rxQcBKvOsh_j"
   },
   "source": [
    "## RL for Predictive Maintenance\n",
    "- 07-Dec-24: PHM: All C01, C04 and C06 x three runs done W8\n",
    "- \n",
    "\n"
   ]
  },
  {
   "cell_type": "code",
   "execution_count": 25,
   "metadata": {},
   "outputs": [],
   "source": [
    "## Working PHM settings\n",
    "# - EARLY_DETECT_FACTOR = -0.125\n",
    "# - r1 = 1; r2 = -4; r3 = -0.5\n",
    "# - ADD_NOISE = 5*1e2\n",
    "# - SAMPLING_RATE = 25\n",
    "# - EPISODES = 200 k\n",
    "\n",
    "## Working NUAA settings\n",
    "# - EARLY_DETECT_FACTOR = -0.10\n",
    "# - r1 = 1; r2 = -4; r3 = -0.5\n",
    "# - ADD_NOISE = 5*1e2\n",
    "# - SAMPLING_RATE = 25\n",
    "# - EPISODES = 200 k"
   ]
  },
  {
   "cell_type": "code",
   "execution_count": 26,
   "metadata": {},
   "outputs": [],
   "source": [
    "# PHM EARLY_DETECT_FACTOR = -0.125\n",
    "# PHM r1 = 1; r2 = -4; r3 = -0.5\n",
    "\n",
    "## NUAA \n",
    "EARLY_DETECT_FACTOR = -0.125\n",
    "r1 = 4; r2 = -8; r3 = -0.5\n",
    "\n",
    "ENV_TYPE = 'NUAA' # PHM \n",
    "TRAINING_DATA = f'{ENV_TYPE}_W3' # C01, C04, C06, W1, W3, W8 \n",
    "ADD_NOISE = 5*1e2\n",
    "SAMPLING_RATE = 25\n",
    "EPISODES = 200_000"
   ]
  },
  {
   "cell_type": "markdown",
   "metadata": {
    "jp-MarkdownHeadingCollapsed": true
   },
   "source": [
    "## Milling Tool Environment"
   ]
  },
  {
   "cell_type": "code",
   "execution_count": 27,
   "metadata": {},
   "outputs": [],
   "source": [
    "# Milling Tool Environment\n",
    "# - Handles multiple dataset. PHM and NUAA\n",
    "# - Default Rewards: ```R1: +1.0, R2: -4.0, R3: -0.5```\n",
    "\n",
    "import gymnasium as gym\n",
    "from gymnasium import spaces\n",
    "import pandas as pd\n",
    "import numpy as np\n",
    "import matplotlib.pyplot as plt\n",
    "from matplotlib.pyplot import figure\n",
    "\n",
    "NO_ACTION = 0\n",
    "REPLACE = 1\n",
    "\n",
    "class Milling_Tool_Env(gym.Env):\n",
    "    \n",
    "        def __init__(self, max_records=0, env_type = '', rul_threshold=0.0, R1=1.0, R2=0.0, R3=0.0):\n",
    "            print(f'-- Ver. RB 0.5. Tested 26-Nov-24: Environment: {env_type} | RUL threshold: {rul_threshold:4.3f} | Records: {max_records} | R1: {R1:3.1f}, R2: {R2:3.1f}, R3: {R3:3.1f}')\n",
    "\n",
    "            # Initialize\n",
    "            self.env_type = env_type\n",
    "            self.R1 = R1\n",
    "            self.R2 = R2\n",
    "            self.R3 = R3\n",
    "            self.reward = 0.0\n",
    "            self.cummulative_rewards = 0.0\n",
    "\n",
    "            self.a_rewards = []\n",
    "            self.a_actions = []\n",
    "            self.a_action_recommended = []\n",
    "            self.a_rul = []\n",
    "            self.a_time_since_last_replacement = []\n",
    "\n",
    "            self.df = None\n",
    "            self.current_time_step = 0\n",
    "            self.max_records = max_records\n",
    "            self.maintenance_cost = 0.0\n",
    "            self.replacement_events = 0\n",
    "            self.time_since_last_replacement = 0\n",
    "            self.rul_threshold = rul_threshold\n",
    "\n",
    "            high = np.array(6*[1.0], dtype=np.float32)\n",
    "            low = np.array(6*[-1.0], dtype=np.float32)\n",
    "            self.observation_space = spaces.Box(low, high, dtype=np.float32)\n",
    "            self.action_space = spaces.Discrete(2)\n",
    "\n",
    "        ## Add tool wear data-set\n",
    "        ## Keep rul_threshold intialized to self.rul_threshold\n",
    "        def tool_wear_data(self, df, rul_threshold=0.0):\n",
    "            self.df = df\n",
    "            self.rul_threshold = rul_threshold\n",
    "            self.max_records = len(df.index)\n",
    "            print(f'   * Tool-wear data updated: {self.max_records}. RUL threshold: {self.rul_threshold:4.3f}')\n",
    "\n",
    "        def _get_observation(self):\n",
    "            if (self.df is not None):\n",
    "                if (self.env_type == 'PHM'):\n",
    "                    obs_values = np.array([\n",
    "                        self.df.loc[self.current_time_step, 'force_x'],\n",
    "                        self.df.loc[self.current_time_step, 'force_y'],\n",
    "                        self.df.loc[self.current_time_step, 'force_z'],\n",
    "                        self.df.loc[self.current_time_step, 'vibration_x'],\n",
    "                        self.df.loc[self.current_time_step, 'vibration_y'],\n",
    "                        self.df.loc[self.current_time_step, 'vibration_z']\n",
    "                    ], dtype=np.float32)\n",
    "                else:\n",
    "                    obs_values = np.array([\n",
    "                        self.df.loc[self.current_time_step, 'axial_force'],\n",
    "                        self.df.loc[self.current_time_step, 'force_z'],\n",
    "                        self.df.loc[self.current_time_step, 'vibration_x'],\n",
    "                        self.df.loc[self.current_time_step, 'vibration_y'],\n",
    "                        self.df.loc[self.current_time_step, 'vibration1'],\n",
    "                        self.df.loc[self.current_time_step, 'vibration2']\n",
    "                    ], dtype=np.float32)\n",
    "            else:\n",
    "                obs_values = np.array([0.0, 0.0, 0.0, 0.0, 0.0, 0.0], dtype=np.float32)\n",
    "\n",
    "            observation = obs_values.flatten()\n",
    "            return observation\n",
    "\n",
    "        def _get_auxilliary_info(self):\n",
    "            if (self.df is not None):\n",
    "                recommended_action = int(self.df.loc[self.current_time_step, 'ACTION_CODE'])\n",
    "                rul = float(self.df.loc[self.current_time_step, 'RUL'])\n",
    "            else:\n",
    "                recommended_action = 0\n",
    "                rul = 0.0\n",
    "\n",
    "            return recommended_action, rul\n",
    "\n",
    "        def reset(self, seed=None, options=None):\n",
    "            super().reset(seed=seed)\n",
    "            # self.a_rewards = []\n",
    "            # self.a_actions = []\n",
    "            # self.a_action_recommended = []\n",
    "            # self.a_rul = []\n",
    "\n",
    "            # Choose the tool wear at a random time (spatial) location from a uniformly random distribution\n",
    "            # self.current_time_step = np.random.randint(0, int(RANDOM_TOOL_START_OF_LIFE * self.max_records), 1, dtype=int)\n",
    "            self.current_time_step = 0\n",
    "            self.reward = 0.0\n",
    "            self.cummulative_rewards = 0.0\n",
    "\n",
    "            observation = self._get_observation()\n",
    "            info = {'reset':'Reset'}\n",
    "            return observation, info\n",
    "\n",
    "        ## Step\n",
    "        def step(self, action):\n",
    "            terminated = False\n",
    "            reward = 0.0\n",
    "            info = {'Step':'-'}\n",
    "            # Get auxilliary info: current RUL reading (note this is NOT part of the observation) and the expert's recommended action\n",
    "            recommended_action, self.rul = self._get_auxilliary_info()\n",
    "            self.maintenance_cost = 0.0\n",
    "\n",
    "            # Check if Episode over\n",
    "            if self.current_time_step >= self.max_records:\n",
    "                done = True\n",
    "\n",
    "            # Reward for RUL maximized and penalize if breached\n",
    "            if self.rul > (1.0 + EARLY_DETECT_FACTOR)*self.rul_threshold:\n",
    "                reward = self.current_time_step*self.R1\n",
    "            else:\n",
    "                reward = self.current_time_step*self.R2\n",
    "\n",
    "            # If tool replaced, add cost of replacement\n",
    "            if action == REPLACE:\n",
    "                # Update time_since_last_replacement\n",
    "                self.time_since_last_replacement = self.current_time_step\n",
    "                self.a_time_since_last_replacement.append(self.current_time_step)\n",
    "                reward = self.current_time_step*self.R3\n",
    "                self.current_time_step = 0\n",
    "\n",
    "            self.reward = reward\n",
    "            self.cummulative_rewards = self.cummulative_rewards + reward\n",
    "\n",
    "            # Information arrays\n",
    "            self.a_rewards.append(reward)\n",
    "            self.a_actions.append(action)\n",
    "            self.a_action_recommended.append(recommended_action)\n",
    "            self.a_rul.append(self.rul)\n",
    "\n",
    "            if (action != REPLACE) and (self.current_time_step < (self.max_records-1)):\n",
    "              self.current_time_step += 1\n",
    "\n",
    "            # Action taken, reward set for that action, now take in next observation\n",
    "            observation = self._get_observation()\n",
    "\n",
    "\n",
    "            if self.rul <= self.rul_threshold:\n",
    "              self.cummulative_rewards = 0.0\n",
    "\n",
    "            # if self.rul > self.rul_threshold:\n",
    "            #     print(f'Action>> Expert:{recommended_action:2d} Agent:{action:2d}| RUL: {self.rul:>5.2f} | Reward: {reward:>7.2f} -- CR: {self.cummulative_rewards:>7.2f}' )\n",
    "            # else:\n",
    "            #     print(f'*** RUL reached: {self.rul:3.2f} ***')\n",
    "            #     self.cummulative_rewards = 0.0\n",
    "\n",
    "            # writer.add_scalar('reward', reward)\n",
    "            return observation, self.reward, terminated, False, info"
   ]
  },
  {
   "cell_type": "markdown",
   "metadata": {
    "id": "7ptQx8BqHek_",
    "jp-MarkdownHeadingCollapsed": true
   },
   "source": [
    "## Libraries, Paths, Data-sets"
   ]
  },
  {
   "cell_type": "code",
   "execution_count": 28,
   "metadata": {
    "colab": {
     "base_uri": "https://localhost:8080/"
    },
    "id": "57eHSdTmmgHF",
    "outputId": "770944bc-b5d9-417a-d33c-6b3b4eb42bf3"
   },
   "outputs": [],
   "source": [
    "# General libraries\n",
    "import pandas as pd\n",
    "import numpy as np\n",
    "import matplotlib.pyplot as plt\n",
    "from matplotlib.pyplot import figure\n",
    "from datetime import datetime\n",
    "import warnings\n",
    "warnings.filterwarnings('ignore')\n",
    "\n",
    "# RL libraries\n",
    "import gymnasium as gym\n",
    "from stable_baselines3 import PPO, A2C\n",
    "from stable_baselines3.common.env_checker import check_env\n",
    "from stable_baselines3.common.evaluation import evaluate_policy\n",
    "from torch.utils.tensorboard import SummaryWriter\n",
    "\n",
    "# Custom libraries\n",
    "from utilities import downsample, tool_wear_data\n",
    "\n",
    "# Data-sets\n",
    "datasets = {'NUAA_W1':['NUAA_W1_0p229.csv', 0.229], 'NUAA_W3':['NUAA_W3_0p12.csv', 0.12], 'NUAA_W8':['NUAA_W8_0p281.csv', 0.281],\n",
    "           'PHM_C01':['PHM_C01_0p12.csv', 0.12],  'PHM_C04':['PHM_C04_0p098.csv', 0.098],  'PHM_C06':['PHM_C06_0p13.csv', 0.13]}\n",
    "\n",
    "# Paths\n",
    "dt_string = datetime.now().strftime(\"%d-%b-%Y  %H:%M:%S\")\n",
    "PATH = 'D:/ResearchLab/RL_for_PdM/RL_for_Predictive_Maintenance'\n",
    "DATA_PATH = f'{PATH}/Data/'"
   ]
  },
  {
   "cell_type": "markdown",
   "metadata": {},
   "source": [
    "## Set-up"
   ]
  },
  {
   "cell_type": "code",
   "execution_count": 29,
   "metadata": {
    "colab": {
     "base_uri": "https://localhost:8080/"
    },
    "id": "0jxk_NfeQqEH",
    "outputId": "13b62a53-1178-4f74-a9b0-2db99ffa5891"
   },
   "outputs": [
    {
     "name": "stdout",
     "output_type": "stream",
     "text": [
      "TRAINING: Data set: D:/ResearchLab/RL_for_PdM/RL_for_Predictive_Maintenance/Data//NUAA_W3_0p12.csv, Threshold: 0.12\n",
      "EVALUATION: Data set: NUAA_W3_0p12.csv, Threshold: 0.12\n",
      "Tensorboard logging to D:/ResearchLab/RL_for_PdM/RL_for_Predictive_Maintenance/tensorboard/NUAA_W3/\n",
      "Model D:/ResearchLab/RL_for_PdM/RL_for_Predictive_Maintenance/models/Agent_NUAA_W3_Eps_200000_Noise_500p0_R1_4_R2_-8_R3_-0p5\n"
     ]
    }
   ],
   "source": [
    "# # Environment set-up\n",
    "ENV_TYPE = 'NUAA' # PHM \n",
    "# TRAINING_DATA = f'{ENV_TYPE}_W3' # C01, C04, C06, W1, W3, W8 \n",
    "EVALUATION_DATA = f'{ENV_TYPE}_W3'\n",
    "# ADD_NOISE = 5*1e2\n",
    "# SAMPLING_RATE = 50\n",
    "\n",
    "# # RL set-up\n",
    "# EPISODES = int(100e3)\n",
    "ALGO = 'PPO'\n",
    "BATCH_SIZE = 16\n",
    "EVALUATION_ROUNDS = 20\n",
    "TENSOR_BOARD = True\n",
    "PRETRAINED_MODEL = False \n",
    "MAX_EPISODE_STEPS_FACTOR = 10 # MAX_EPISODE_STEPS = MAX_EPISODE_STEPS_FACTOR*records\n",
    "\n",
    "# Set-up data-sets\n",
    "DATA_FILE = datasets[TRAINING_DATA][0]\n",
    "WEAR_THRESHOLD = datasets[TRAINING_DATA][1]\n",
    "TEST_DATA = datasets[EVALUATION_DATA][0]\n",
    "TEST_WEAR_THRESHOLD = datasets[EVALUATION_DATA][1]\n",
    "\n",
    "# Paths\n",
    "DATA_FILE = f'{DATA_PATH}/{DATA_FILE}'\n",
    "TEST_DATA_FILE = f'{DATA_PATH}/{TEST_DATA}'\n",
    "mfile = f'Agent_{TRAINING_DATA}_Eps_{EPISODES}_Noise_{ADD_NOISE}_R1_{r1}_R2_{r2}_R3_{r3}'\n",
    "mfile = mfile.replace('.', 'p')\n",
    "MODEL_FILE = f'{PATH}/models/{mfile}'\n",
    "LOG_PATH = f'{PATH}/tensorboard/{TRAINING_DATA}/'\n",
    "\n",
    "writer = SummaryWriter(LOG_PATH) if TENSOR_BOARD else None \n",
    "print(f'TRAINING: Data set: {DATA_FILE}, Threshold: {WEAR_THRESHOLD}')\n",
    "print(f'EVALUATION: Data set: {TEST_DATA}, Threshold: {TEST_WEAR_THRESHOLD}')\n",
    "print(f'Tensorboard logging to {LOG_PATH}')\n",
    "print(f'Model {MODEL_FILE}')"
   ]
  },
  {
   "cell_type": "markdown",
   "metadata": {
    "id": "8cGfi3dEJi8S"
   },
   "source": [
    "## Tool wear data"
   ]
  },
  {
   "cell_type": "code",
   "execution_count": 30,
   "metadata": {},
   "outputs": [
    {
     "name": "stdout",
     "output_type": "stream",
     "text": [
      "- Down-sampling. Input data records: 901. Sampling rate: 25. Expected rows 36.    Down-sampled to 37 rows.\n"
     ]
    },
    {
     "data": {
      "image/png": "[encoded data removed]",
      "text/plain": [
       "<Figure size 1000x250 with 1 Axes>"
      ]
     },
     "metadata": {},
     "output_type": "display_data"
    },
    {
     "name": "stdout",
     "output_type": "stream",
     "text": [
      "- Down-sampling. Input data records: 901. Sampling rate: 25. Expected rows 36.    Down-sampled to 37 rows.\n"
     ]
    },
    {
     "data": {
      "image/png": "[encoded data removed]",
      "text/plain": [
       "<Figure size 1000x250 with 1 Axes>"
      ]
     },
     "metadata": {},
     "output_type": "display_data"
    },
    {
     "name": "stdout",
     "output_type": "stream",
     "text": [
      "TRAIN - RUL threshold at time 25 is 0.453, and wear threshold 0.120\n",
      "TEST  - RUL threshold at time 25 is 0.453, and wear threshold 0.120\n"
     ]
    }
   ],
   "source": [
    "# Create Training data\n",
    "_, _, WEAR_THRESHOLD_NORMALIZED, df_train = tool_wear_data(\n",
    "    env_type = ENV_TYPE, data_file=DATA_FILE, wear_threshold = WEAR_THRESHOLD,\n",
    "    normalize=True, add_noise=ADD_NOISE, sampling_rate = SAMPLING_RATE)\n",
    "\n",
    "records = len(df_train.index)\n",
    "MAX_EPISODE_STEPS = MAX_EPISODE_STEPS_FACTOR*records\n",
    "rul_threshold_record_train = df_train.loc[df_train['tool_wear'] >= WEAR_THRESHOLD_NORMALIZED].index[0]\n",
    "rul_threshold_train = df_train.loc[df_train.index[rul_threshold_record_train], 'RUL']\n",
    "\n",
    "# Create Test data\n",
    "_, _, TEST_WEAR_THRESHOLD_NORMALIZED, df_test = tool_wear_data(\n",
    "    env_type = ENV_TYPE, data_file=TEST_DATA_FILE, wear_threshold = TEST_WEAR_THRESHOLD,\n",
    "    normalize=True, add_noise=False, sampling_rate = SAMPLING_RATE)\n",
    "\n",
    "n_test_records = len(df_test.index)\n",
    "rul_threshold_record_test = df_test.loc[df_test['tool_wear'] >= TEST_WEAR_THRESHOLD_NORMALIZED].index[0]\n",
    "rul_threshold_test = df_test.loc[df_test.index[rul_threshold_record_test], 'RUL']\n",
    "\n",
    "print(f'TRAIN - RUL threshold at time {rul_threshold_record_train} is {rul_threshold_train:3.3f}, and wear threshold {WEAR_THRESHOLD:3.3f}')\n",
    "print(f'TEST  - RUL threshold at time {rul_threshold_record_test} is {rul_threshold_test:3.3f}, and wear threshold {TEST_WEAR_THRESHOLD:3.3f}')"
   ]
  },
  {
   "cell_type": "markdown",
   "metadata": {
    "id": "sgNnd0fHGnu1"
   },
   "source": [
    "## Predictive Maintenance Agent Training"
   ]
  },
  {
   "cell_type": "code",
   "execution_count": 31,
   "metadata": {
    "colab": {
     "base_uri": "https://localhost:8080/"
    },
    "id": "IB3kNPAsvUSj",
    "outputId": "7452eacd-a5e9-4eb4-f02c-1a0461f11380"
   },
   "outputs": [
    {
     "name": "stdout",
     "output_type": "stream",
     "text": [
      "-- Ver. RB 0.5. Tested 26-Nov-24: Environment: NUAA | RUL threshold: 0.453 | Records: 37 | R1: 4.0, R2: -8.0, R3: -0.5\n",
      "   * Tool-wear data updated: 37. RUL threshold: 0.453\n"
     ]
    }
   ],
   "source": [
    "from stable_baselines3.common.monitor import Monitor\n",
    "\n",
    "gym.register(\n",
    "    id = 'custom/MillingToolEnv-v0',\n",
    "    entry_point = Milling_Tool_Env,\n",
    "    max_episode_steps = MAX_EPISODE_STEPS,)\n",
    "\n",
    "mt_env = Monitor(gym.make('custom/MillingToolEnv-v0', max_records=records, env_type=ENV_TYPE, rul_threshold=rul_threshold_train, R1=r1, R2=r2, R3=r3))\n",
    "# mt_env = gym.make('custom/MillingToolEnv-v0', max_records=records, env_type=ENV_TYPE, rul_threshold=rul_threshold_train)\n",
    "mt_env.tool_wear_data(df_train, rul_threshold_train)"
   ]
  },
  {
   "cell_type": "code",
   "execution_count": 32,
   "metadata": {
    "id": "JvvGmTPOvUVF"
   },
   "outputs": [],
   "source": [
    "if ALGO == 'PPO':\n",
    "    expert_ppo = PPO('MlpPolicy', env=mt_env, tensorboard_log=LOG_PATH)\n",
    "    expert_ppo.learn(EPISODES)\n",
    "    expert = expert_ppo\n",
    "elif ALGO == 'A2C':\n",
    "    expert_a2c = A2C('MlpPolicy', env=mt_env, tensorboard_log=LOG_PATH)\n",
    "    expert_a2c.learn(EPISODES)\n",
    "    expert = expert_a2c"
   ]
  },
  {
   "cell_type": "markdown",
   "metadata": {},
   "source": [
    "## SKIP EXECTUION"
   ]
  },
  {
   "cell_type": "code",
   "execution_count": 33,
   "metadata": {},
   "outputs": [],
   "source": [
    "from IPython.core.magic import register_cell_magic\n",
    "\n",
    "@register_cell_magic\n",
    "def skip(line, cell):\n",
    "    return"
   ]
  },
  {
   "cell_type": "code",
   "execution_count": 34,
   "metadata": {},
   "outputs": [],
   "source": [
    "%%skip\n",
    "\n",
    "dts = datetime.now().strftime(\"%d-%b-%Y_%H_%M_%S\")\n",
    "dt = datetime.now().strftime(\"%d-%b-%Y\")\n",
    "\n",
    "print(f'- Saving Expert model in {mfile}')\n",
    "MODEL_FILE = f'{PATH}/models/{dt}/{mfile}_{dts}'\n",
    "\n",
    "MODEL_FILE = MODEL_FILE.replace('.', 'p')\n",
    "print(f'- Saving Expert model in {MODEL_FILE}')\n",
    "expert.save(MODEL_FILE)"
   ]
  },
  {
   "cell_type": "code",
   "execution_count": 35,
   "metadata": {
    "id": "fYWr1ui_LHZa"
   },
   "outputs": [],
   "source": [
    "%%skip\n",
    "\n",
    "def moving_average(a, n=10):\n",
    "    ret = np.cumsum(a, dtype=float)\n",
    "    ret[n:] = ret[n:] - ret[:-n]\n",
    "    return ret[n - 1:] / n"
   ]
  },
  {
   "cell_type": "code",
   "execution_count": 36,
   "metadata": {
    "colab": {
     "base_uri": "https://localhost:8080/",
     "height": 492
    },
    "id": "vRLXxyF8vUXZ",
    "outputId": "38a36d64-ab76-4042-9fc1-d736e257fcb7"
   },
   "outputs": [],
   "source": [
    "%%skip\n",
    "\n",
    "stop_pt = int(1 * len(mt_env.a_rul))\n",
    "w = 1000\n",
    "ma_rul = moving_average(mt_env.a_rul[0:stop_pt], w)\n",
    "# ma_rul = np.pad(ma_rul, pad_width=w, mode='edge')\n",
    "plt.figure(figsize=(30, 2.5))\n",
    "# plt.plot(mt_env.a_rul[0:stop_pt], 'powderblue', alpha=0.7)\n",
    "plt.plot(ma_rul[:-w], 'slateblue')\n",
    "title = f'Remaining Useful Life - [{TRAINING_DATA}. Threshold {rul_threshold_train:4.3f}]'\n",
    "plt.title(title)\n",
    "# plt.axhline(y = rul_threshold_train, color = 'b', linestyle = '--', alpha=0.3)\n",
    "# plt.axhline(y = WEAR_THRESHOLD_NORMALIZED, color = 'r', linestyle = '--', alpha=0.3)\n",
    "IMAGE_FILE = f'{PATH}/models/{dt}/RUL_{dts}.png'\n",
    "plt.savefig(IMAGE_FILE, bbox_inches='tight')\n",
    "plt.show()\n",
    "\n",
    "stop_pt = int(1 * len(mt_env.a_time_since_last_replacement))\n",
    "w = 100\n",
    "ma_rep_time = moving_average(mt_env.a_time_since_last_replacement[0:stop_pt], w)\n",
    "ma_rep_time = np.pad(ma_rep_time, pad_width=w, mode='edge')\n",
    "plt.figure(figsize=(30, 2.5))\n",
    "plt.plot(mt_env.a_time_since_last_replacement[0:stop_pt], 'powderblue')\n",
    "plt.plot(ma_rep_time[:-w], 'slateblue')\n",
    "title = f'Time since last replacement [{TRAINING_DATA}]'\n",
    "plt.title(title)\n",
    "IMAGE_FILE = f'{PATH}/models/{dt}/ReplacementTime_{dts}.png'\n",
    "plt.savefig(IMAGE_FILE, bbox_inches='tight')\n",
    "plt.show()"
   ]
  },
  {
   "cell_type": "code",
   "execution_count": 37,
   "metadata": {
    "colab": {
     "base_uri": "https://localhost:8080/",
     "height": 323
    },
    "id": "jvv8yv4EvUaB",
    "outputId": "405ba6e1-1234-4c31-eed8-14c1cedd4b9b"
   },
   "outputs": [],
   "source": [
    "%%skip\n",
    "\n",
    "w = 100\n",
    "l = EPISODES-w\n",
    "\n",
    "ma_rewards = moving_average(mt_env.a_rewards, w)\n",
    "ma_rewards = np.pad(ma_rewards, pad_width=w, mode='edge')\n",
    "\n",
    "plt.figure(figsize=(30, 2.5))\n",
    "# plt.plot(mt_env.a_rewards, alpha=0.1)\n",
    "plt.plot(ma_rewards, 'palevioletred', alpha=0.8)\n",
    "\n",
    "title = f'Rewards [{TRAINING_DATA}]'\n",
    "plt.title(title)\n",
    "IMAGE_FILE = f'{PATH}/models/{dt}/Rewards_{dts}.png'\n",
    "plt.savefig(IMAGE_FILE, bbox_inches='tight')\n",
    "plt.show()\n",
    "\n",
    "plt.figure(figsize=(30, 1))\n",
    "plt.plot(mt_env.a_actions[-w:], 'slateblue')\n",
    "plt.plot(mt_env.a_action_recommended[-w:], 'palevioletred', alpha=0.4)\n",
    "plt.title(f'Last {w} trained versus expert\\'s actions. Blue: Agent | Light-red: Expert [{TRAINING_DATA}]')\n",
    "plt.axhline(y = rul_threshold_train, color = 'b', linestyle = '--', alpha=0.3)\n",
    "plt.axhline(y = WEAR_THRESHOLD_NORMALIZED, color = 'r', linestyle = '--', alpha=0.3)\n",
    "plt.show()"
   ]
  },
  {
   "cell_type": "markdown",
   "metadata": {},
   "source": [
    "## Model save"
   ]
  },
  {
   "cell_type": "code",
   "execution_count": 38,
   "metadata": {},
   "outputs": [],
   "source": [
    "%%skip\n",
    "\n",
    "RESULTS_FILE = MODEL_FILE.replace('Agent_', 'RESULTS_')\n",
    "RESULTS_FILE = f'{RESULTS_FILE}.csv'\n",
    "print(f'- Saving Expert model in {MODEL_FILE} \\n and results in {RESULTS_FILE}')"
   ]
  },
  {
   "cell_type": "markdown",
   "metadata": {},
   "source": [
    "### Result arrays: \n",
    "(1) RUL \n",
    "(2) Time to replace \n",
    "(3) Rewards i.e. cost \n",
    "(4) Actions taken \n",
    "(5) Expert actions\n",
    "```\n",
    "- mt_env.a_rul\n",
    "- mt_env.a_time_since_last_replacement\n",
    "- mt_env.a_rewards\n",
    "- mt_env.a_actions\n",
    "- mt_env.a_action_recommended\n",
    "```"
   ]
  },
  {
   "cell_type": "code",
   "execution_count": 39,
   "metadata": {},
   "outputs": [],
   "source": [
    "%%skip\n",
    "\n",
    "## Result arrays: (1) RUL (2) Time to replace (3) Rewards i.e. cost (4) Actions taken (5) Expert actions\n",
    "\n",
    "l_rul = len(mt_env.a_rul)\n",
    "l_t = len(mt_env.a_time_since_last_replacement)\n",
    "l_r = len(mt_env.a_rewards)\n",
    "l_a = len(mt_env.a_actions)\n",
    "l_ea = len(mt_env.a_action_recommended)\n",
    "\n",
    "# RUL - ensure all numeric\n",
    "# r_rul = list(map(float, mt_env.a_rul))\n",
    "\n",
    "print(l_rul, l_t, l_r, l_a, l_ea)\n",
    "n_result_records = max([l_rul, l_t, l_r, l_a, l_ea])\n",
    "print(n_result_records)\n",
    "\n",
    "fill = [-1] * n_result_records\n",
    "padded_time_since_last_replacement = mt_env.a_time_since_last_replacement[:n_result_records] + fill[len(mt_env.a_time_since_last_replacement):]\n",
    "print(len(padded_time_since_last_replacement))"
   ]
  },
  {
   "cell_type": "code",
   "execution_count": 40,
   "metadata": {},
   "outputs": [],
   "source": [
    "%%skip\n",
    "\n",
    "df_results = pd.DataFrame(\n",
    "    {'RUL': mt_env.a_rul,\n",
    "     'Time_since_last_replacement': padded_time_since_last_replacement,\n",
    "     'Rewards': mt_env.a_rewards,\n",
    "     'Agent_actions': mt_env.a_actions,\n",
    "     'Expert_actions': mt_env.a_action_recommended})\n",
    "\n",
    "df_results.to_csv(RESULTS_FILE)"
   ]
  }
 ],
 "metadata": {
  "colab": {
   "collapsed_sections": [
    "rxQcBKvOsh_j",
    "8cGfi3dEJi8S",
    "mDGsBqjoJsPr"
   ],
   "provenance": []
  },
  "kernelspec": {
   "display_name": "Python 3 (ipykernel)",
   "language": "python",
   "name": "python3"
  },
  "language_info": {
   "codemirror_mode": {
    "name": "ipython",
    "version": 3
   },
   "file_extension": ".py",
   "mimetype": "text/x-python",
   "name": "python",
   "nbconvert_exporter": "python",
   "pygments_lexer": "ipython3",
   "version": "3.10.11"
  }
 },
 "nbformat": 4,
 "nbformat_minor": 4
}
